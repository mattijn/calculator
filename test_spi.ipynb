{
 "metadata": {
  "language_info": {
   "codemirror_mode": {
    "name": "ipython",
    "version": 3
   },
   "file_extension": ".py",
   "mimetype": "text/x-python",
   "name": "python",
   "nbconvert_exporter": "python",
   "pygments_lexer": "ipython3",
   "version": "3.8.5-final"
  },
  "orig_nbformat": 2,
  "kernelspec": {
   "name": "Python 3.8.5 64-bit",
   "display_name": "Python 3.8.5 64-bit",
   "metadata": {
    "interpreter": {
     "hash": "aee8b7b246df8f9039afb4144a1f6fd8d2ca17a180786b69acc140d282b71a49"
    }
   }
  }
 },
 "nbformat": 4,
 "nbformat_minor": 2,
 "cells": [
  {
   "cell_type": "code",
   "execution_count": 97,
   "metadata": {},
   "outputs": [],
   "source": [
    "from spi import Lexer, Parser, SemanticAnalyzer, Interpreter\n",
    "class TestCallStack:\n",
    "    def __init__(self):\n",
    "        self._records = []\n",
    "\n",
    "    def push(self, ar):\n",
    "        self._records.append(ar)\n",
    "\n",
    "    def pop(self):\n",
    "        # do nothing\n",
    "        pass\n",
    "\n",
    "    def peek(self):\n",
    "        return self._records[-1]"
   ]
  },
  {
   "cell_type": "code",
   "execution_count": 98,
   "metadata": {},
   "outputs": [],
   "source": [
    "def interpreter(text):\n",
    "    \n",
    "    lexer = Lexer(text)\n",
    "    parser = Parser(lexer)\n",
    "    tree = parser.parse()\n",
    "\n",
    "    semantic_analyzer = SemanticAnalyzer()\n",
    "    semantic_analyzer.visit(tree)\n",
    "\n",
    "    interpreter = Interpreter(tree)\n",
    "    interpreter.call_stack = TestCallStack()\n",
    "    return interpreter"
   ]
  },
  {
   "cell_type": "code",
   "execution_count": 99,
   "metadata": {},
   "outputs": [],
   "source": [
    "def eval(expression):\n",
    "    text = f\"\"\"PROGRAM CustomCalculator;\n",
    "        VAR\n",
    "            formula : REAL;\n",
    "        BEGIN\n",
    "            formula := {expression}\n",
    "        END.\n",
    "    \"\"\"\n",
    "    ipt = interpreter(text)\n",
    "    ipt.interpret()\n",
    "    value = ipt.call_stack.peek()['formula']\n",
    "    return value"
   ]
  },
  {
   "cell_type": "code",
   "execution_count": 101,
   "metadata": {},
   "outputs": [
    {
     "output_type": "execute_result",
     "data": {
      "text/plain": [
       "2"
      ]
     },
     "metadata": {},
     "execution_count": 101
    }
   ],
   "source": [
    "eval('2*1')"
   ]
  }
 ]
}