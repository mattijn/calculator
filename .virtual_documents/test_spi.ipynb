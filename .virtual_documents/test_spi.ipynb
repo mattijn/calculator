from eval import evaluate


evaluate('2↑3')


evaluate('8↓3')


evaluate('8⇓2')


import streamlit as st


st.beta_columns()
